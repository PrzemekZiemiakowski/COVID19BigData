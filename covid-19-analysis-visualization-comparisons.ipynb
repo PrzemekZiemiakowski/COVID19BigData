{
 "metadata": {
  "kernelspec": {
   "language": "python",
   "display_name": "Python 3",
   "name": "python3"
  },
  "language_info": {
   "pygments_lexer": "ipython3",
   "nbconvert_exporter": "python",
   "version": "3.6.4",
   "file_extension": ".py",
   "codemirror_mode": {
    "name": "ipython",
    "version": 3
   },
   "name": "python",
   "mimetype": "text/x-python"
  }
 },
 "nbformat_minor": 4,
 "nbformat": 4,
 "cells": [
  {
   "cell_type": "markdown",
   "source": [
    "### Acknowledgements\n",
    "\n",
    "> https://github.com/CSSEGISandData/COVID-19\n",
    "\n",
    "### Collection methodology\n",
    "\n",
    "> https://github.com/imdevskp/covid_19_jhu_data_web_scrap_and_cleaning\n",
    "\n",
    "### Disclaimer\n",
    "\n",
    "> * Data is from scrapped from JHU github repository. Any variation in the data there will also reflect in this notebook"
   ],
   "metadata": {
    "pycharm": {
     "name": "#%% md\n"
    }
   }
  },
  {
   "cell_type": "markdown",
   "source": [
    "### Timeline"
   ],
   "metadata": {
    "pycharm": {
     "name": "#%% md\n"
    }
   }
  },
  {
   "cell_type": "code",
   "source": [
    "# from IPython.core.display import HTML"
   ],
   "metadata": {
    "_kg_hide-input": true,
    "_kg_hide-output": true,
    "trusted": true,
    "pycharm": {
     "name": "#%%\n"
    }
   },
   "execution_count": null,
   "outputs": []
  },
  {
   "cell_type": "code",
   "source": [
    "# HTML('''<div class=\"flourish-embed flourish-cards\" data-src=\"visualisation/1810417\" data-url=\"https://flo.uri.sh/visualisation/1810417/embed\"><script src=\"https://public.flourish.studio/resources/embed.js\"></script></div>''')"
   ],
   "metadata": {
    "_kg_hide-input": true,
    "trusted": true,
    "pycharm": {
     "name": "#%%\n"
    }
   },
   "execution_count": null,
   "outputs": []
  },
  {
   "cell_type": "markdown",
   "source": [
    "### Ships that had passengers with COVID-19"
   ],
   "metadata": {
    "pycharm": {
     "name": "#%% md\n"
    }
   }
  },
  {
   "cell_type": "code",
   "source": [
    "# HTML('''<div class=\"flourish-embed flourish-cards\" data-src=\"visualisation/1816605\" data-url=\"https://flo.uri.sh/visualisation/1816605/embed\"><script src=\"https://public.flourish.studio/resources/embed.js\"></script></div>''')"
   ],
   "metadata": {
    "_kg_hide-input": true,
    "trusted": true,
    "pycharm": {
     "name": "#%%\n"
    }
   },
   "execution_count": null,
   "outputs": []
  },
  {
   "cell_type": "markdown",
   "source": [
    "# Libraries"
   ],
   "metadata": {
    "pycharm": {
     "name": "#%% md\n"
    }
   }
  },
  {
   "cell_type": "markdown",
   "source": [
    "### Install libraries"
   ],
   "metadata": {
    "pycharm": {
     "name": "#%% md\n"
    }
   }
  },
  {
   "cell_type": "code",
   "source": [
    "# get latest version of pip\n",
    "# !pip install --upgrade pip\n",
    "\n",
    "# for calender map\n",
    "# ! pip install calmap\n",
    "\n",
    "# to convert us statenames to state codes\n",
    "# ! pip install us\n",
    "\n",
    "# to get continent name from country name\n",
    "# ! pip install pycountry_convert"
   ],
   "metadata": {
    "_kg_hide-output": true,
    "_kg_hide-input": true,
    "trusted": true,
    "pycharm": {
     "name": "#%%\n"
    }
   },
   "execution_count": null,
   "outputs": []
  },
  {
   "cell_type": "markdown",
   "source": [
    "### Load libraries"
   ],
   "metadata": {
    "pycharm": {
     "name": "#%% md\n"
    }
   }
  },
  {
   "cell_type": "code",
   "source": [
    "# math opeations\n",
    "# import math\n",
    "# produce random numbers\n",
    "# import random\n",
    "# to load json files\n",
    "import json\n",
    "# datetime oprations\n",
    "from datetime import timedelta\n",
    "# to get web contents\n",
    "from urllib.request import urlopen\n",
    "\n",
    "# for numerical analyiss\n",
    "import numpy as np\n",
    "# to store and process data in dataframe\n",
    "import pandas as pd"
   ],
   "metadata": {
    "_kg_hide-input": true,
    "trusted": true,
    "pycharm": {
     "name": "#%%\n"
    }
   },
   "execution_count": null,
   "outputs": []
  },
  {
   "cell_type": "code",
   "source": [
    "# basic visualization package\n",
    "import matplotlib.pyplot as plt\n",
    "# advanced ploting\n",
    "import seaborn as sns\n",
    "\n",
    "# interactive visualization\n",
    "import plotly.express as px\n",
    "import plotly.graph_objs as go\n",
    "# import plotly.figure_factory as ff\n",
    "from plotly.subplots import make_subplots"
   ],
   "metadata": {
    "_kg_hide-input": true,
    "trusted": true,
    "pycharm": {
     "name": "#%%\n"
    }
   },
   "execution_count": null,
   "outputs": []
  },
  {
   "cell_type": "code",
   "source": [
    "# for offline ploting\n",
    "from plotly.offline import plot, iplot, init_notebook_mode\n",
    "init_notebook_mode(connected=True)"
   ],
   "metadata": {
    "_kg_hide-input": true,
    "trusted": true,
    "pycharm": {
     "name": "#%%\n"
    }
   },
   "execution_count": null,
   "outputs": []
  },
  {
   "cell_type": "code",
   "source": [
    "# converter\n",
    "# from pandas.plotting import register_matplotlib_converters\n",
    "# register_matplotlib_converters()   \n",
    "\n",
    "# hide warnings\n",
    "import warnings\n",
    "warnings.filterwarnings('ignore')\n",
    "\n",
    "# to USA states details\n",
    "# import us"
   ],
   "metadata": {
    "_uuid": "8f2839f25d086af736a60e9eeb907d3b93b6e0e5",
    "_cell_guid": "b1076dfc-b9ad-4769-8c92-a6c4dae69d19",
    "_kg_hide-input": true,
    "_kg_hide-output": true,
    "trusted": true,
    "pycharm": {
     "name": "#%%\n"
    }
   },
   "execution_count": null,
   "outputs": []
  },
  {
   "cell_type": "markdown",
   "source": [
    "### Color, theme, color palettes"
   ],
   "metadata": {
    "pycharm": {
     "name": "#%% md\n"
    }
   }
  },
  {
   "cell_type": "code",
   "source": [
    "# color pallette\n",
    "cnf, dth, rec, act = '#393e46', '#ff2e63', '#21bf73', '#fe9801' \n",
    "\n",
    "# seaborn plot style\n",
    "# sns.set_style('darkgrid')"
   ],
   "metadata": {
    "_kg_hide-input": true,
    "trusted": true,
    "pycharm": {
     "name": "#%%\n"
    }
   },
   "execution_count": null,
   "outputs": []
  },
  {
   "cell_type": "markdown",
   "source": [
    "# Dataset"
   ],
   "metadata": {
    "pycharm": {
     "name": "#%% md\n"
    }
   }
  },
  {
   "cell_type": "code",
   "source": [
    "# list files\n",
    "# ==========\n",
    "\n",
    "# !ls ../input/corona-virus-report"
   ],
   "metadata": {
    "_kg_hide-input": true,
    "_kg_hide-output": false,
    "trusted": true,
    "pycharm": {
     "name": "#%%\n"
    }
   },
   "execution_count": null,
   "outputs": []
  },
  {
   "cell_type": "code",
   "source": [
    "# Full data\n",
    "# =========\n",
    "\n",
    "full_table = pd.read_csv('../input/corona-virus-report/covid_19_clean_complete.csv')\n",
    "# full_table.head()"
   ],
   "metadata": {
    "_kg_hide-input": true,
    "trusted": true,
    "pycharm": {
     "name": "#%%\n"
    }
   },
   "execution_count": null,
   "outputs": []
  },
  {
   "cell_type": "code",
   "source": [
    "# Grouped by day, country\n",
    "# =======================\n",
    "\n",
    "full_grouped = pd.read_csv('../input/corona-virus-report/full_grouped.csv')\n",
    "full_grouped['Date'] = pd.to_datetime(full_grouped['Date'])\n",
    "# full_grouped.head()"
   ],
   "metadata": {
    "_kg_hide-input": true,
    "_kg_hide-output": true,
    "trusted": true,
    "pycharm": {
     "name": "#%%\n"
    }
   },
   "execution_count": null,
   "outputs": []
  },
  {
   "cell_type": "code",
   "source": [
    "# Day wise\n",
    "# ========\n",
    "\n",
    "day_wise = pd.read_csv('../input/corona-virus-report/day_wise.csv')\n",
    "day_wise['Date'] = pd.to_datetime(day_wise['Date'])\n",
    "# day_wise.head()"
   ],
   "metadata": {
    "_kg_hide-input": true,
    "_kg_hide-output": true,
    "trusted": true,
    "pycharm": {
     "name": "#%%\n"
    }
   },
   "execution_count": null,
   "outputs": []
  },
  {
   "cell_type": "code",
   "source": [
    "# Country wise\n",
    "# ============\n",
    "\n",
    "country_wise = pd.read_csv('../input/corona-virus-report/country_wise_latest.csv')\n",
    "country_wise = country_wise.replace('', np.nan).fillna(0)\n",
    "# country_wise.head()"
   ],
   "metadata": {
    "_kg_hide-input": true,
    "_kg_hide-output": true,
    "trusted": true,
    "pycharm": {
     "name": "#%%\n"
    }
   },
   "execution_count": null,
   "outputs": []
  },
  {
   "cell_type": "code",
   "source": [
    "# Worldometer data\n",
    "# ================\n",
    "\n",
    "worldometer_data = pd.read_csv('../input/corona-virus-report/worldometer_data.csv')\n",
    "worldometer_data = worldometer_data.replace('', np.nan).fillna(0)\n",
    "# worldometer_data.head()"
   ],
   "metadata": {
    "_kg_hide-input": true,
    "_kg_hide-output": true,
    "trusted": true,
    "pycharm": {
     "name": "#%%\n"
    }
   },
   "execution_count": null,
   "outputs": []
  },
  {
   "cell_type": "markdown",
   "source": [
    "# Latest"
   ],
   "metadata": {
    "pycharm": {
     "name": "#%% md\n"
    }
   }
  },
  {
   "cell_type": "code",
   "source": [
    "temp = day_wise[['Date','Deaths', 'Recovered', 'Active']].tail(1)\n",
    "temp = temp.melt(id_vars=\"Date\", value_vars=['Active', 'Deaths', 'Recovered'])\n",
    "fig = px.treemap(temp, path=[\"variable\"], values=\"value\", height=225, \n",
    "                 color_discrete_sequence=[act, rec, dth])\n",
    "fig.data[0].textinfo = 'label+text+value'\n",
    "fig.show()"
   ],
   "metadata": {
    "_kg_hide-input": true,
    "trusted": true,
    "pycharm": {
     "name": "#%%\n"
    }
   },
   "execution_count": null,
   "outputs": []
  },
  {
   "cell_type": "markdown",
   "source": [
    "# Maps"
   ],
   "metadata": {
    "pycharm": {
     "name": "#%% md\n"
    }
   }
  },
  {
   "cell_type": "code",
   "source": [
    "def plot_map(df, col, pal):\n",
    "    df = df[df[col]>0]\n",
    "    fig = px.choropleth(df, locations=\"Country/Region\", locationmode='country names', \n",
    "                  color=col, hover_name=\"Country/Region\", \n",
    "                  title=col, hover_data=[col], color_continuous_scale=pal)\n",
    "#     fig.update_layout(coloraxis_showscale=False)\n",
    "    fig.show()"
   ],
   "metadata": {
    "_kg_hide-input": true,
    "trusted": true,
    "pycharm": {
     "name": "#%%\n"
    }
   },
   "execution_count": null,
   "outputs": []
  },
  {
   "cell_type": "code",
   "source": [
    "plot_map(country_wise, 'Confirmed', 'matter')"
   ],
   "metadata": {
    "_kg_hide-input": true,
    "trusted": true,
    "pycharm": {
     "name": "#%%\n"
    }
   },
   "execution_count": null,
   "outputs": []
  },
  {
   "cell_type": "code",
   "source": [
    "plot_map(country_wise, 'Deaths', 'matter')"
   ],
   "metadata": {
    "_kg_hide-input": true,
    "trusted": true,
    "pycharm": {
     "name": "#%%\n"
    }
   },
   "execution_count": null,
   "outputs": []
  },
  {
   "cell_type": "code",
   "source": [
    "plot_map(country_wise, 'Deaths / 100 Cases', 'matter')"
   ],
   "metadata": {
    "_kg_hide-input": true,
    "trusted": true,
    "pycharm": {
     "name": "#%%\n"
    }
   },
   "execution_count": null,
   "outputs": []
  },
  {
   "cell_type": "code",
   "source": [
    "# Over the time\n",
    "\n",
    "fig = px.choropleth(full_grouped, locations=\"Country/Region\", \n",
    "                    color=np.log(full_grouped[\"Confirmed\"]),\n",
    "                    locationmode='country names', hover_name=\"Country/Region\", \n",
    "                    animation_frame=full_grouped[\"Date\"].dt.strftime('%Y-%m-%d'),\n",
    "                    title='Cases over time', color_continuous_scale=px.colors.sequential.matter)\n",
    "fig.update(layout_coloraxis_showscale=False)\n",
    "fig.show()"
   ],
   "metadata": {
    "_kg_hide-input": true,
    "trusted": true,
    "pycharm": {
     "name": "#%%\n"
    }
   },
   "execution_count": null,
   "outputs": []
  },
  {
   "cell_type": "markdown",
   "source": [
    "# Cases over the time"
   ],
   "metadata": {
    "pycharm": {
     "name": "#%% md\n"
    }
   }
  },
  {
   "cell_type": "code",
   "source": [
    "def plot_daywise(col, hue):\n",
    "    fig = px.bar(day_wise, x=\"Date\", y=col, width=700, color_discrete_sequence=[hue])\n",
    "    fig.update_layout(title=col, xaxis_title=\"\", yaxis_title=\"\")\n",
    "    fig.show()"
   ],
   "metadata": {
    "_kg_hide-input": true,
    "trusted": true,
    "pycharm": {
     "name": "#%%\n"
    }
   },
   "execution_count": null,
   "outputs": []
  },
  {
   "cell_type": "code",
   "source": [
    "def plot_daywise_line(col, hue):\n",
    "    fig = px.line(day_wise, x=\"Date\", y=col, width=700, color_discrete_sequence=[hue])\n",
    "    fig.update_layout(title=col, xaxis_title=\"\", yaxis_title=\"\")\n",
    "    fig.show()"
   ],
   "metadata": {
    "_kg_hide-input": true,
    "trusted": true,
    "pycharm": {
     "name": "#%%\n"
    }
   },
   "execution_count": null,
   "outputs": []
  },
  {
   "cell_type": "code",
   "source": [
    "temp = full_grouped.groupby('Date')['Recovered', 'Deaths', 'Active'].sum().reset_index()\n",
    "temp = temp.melt(id_vars=\"Date\", value_vars=['Recovered', 'Deaths', 'Active'],\n",
    "                 var_name='Case', value_name='Count')\n",
    "temp.head()\n",
    "\n",
    "fig = px.area(temp, x=\"Date\", y=\"Count\", color='Case', height=600, width=700,\n",
    "             title='Cases over time', color_discrete_sequence = [rec, dth, act])\n",
    "fig.update_layout(xaxis_rangeslider_visible=True)\n",
    "fig.show()"
   ],
   "metadata": {
    "_kg_hide-input": true,
    "trusted": true,
    "pycharm": {
     "name": "#%%\n"
    }
   },
   "execution_count": null,
   "outputs": []
  },
  {
   "cell_type": "code",
   "source": [
    "plot_daywise('Confirmed', '#333333')"
   ],
   "metadata": {
    "_kg_hide-input": true,
    "trusted": true,
    "pycharm": {
     "name": "#%%\n"
    }
   },
   "execution_count": null,
   "outputs": []
  },
  {
   "cell_type": "code",
   "source": [
    "plot_daywise('Active', '#333333')"
   ],
   "metadata": {
    "_kg_hide-input": true,
    "trusted": true,
    "pycharm": {
     "name": "#%%\n"
    }
   },
   "execution_count": null,
   "outputs": []
  },
  {
   "cell_type": "code",
   "source": [
    "plot_daywise('New cases', '#333333')"
   ],
   "metadata": {
    "_kg_hide-input": true,
    "trusted": true,
    "pycharm": {
     "name": "#%%\n"
    }
   },
   "execution_count": null,
   "outputs": []
  },
  {
   "cell_type": "code",
   "source": [
    "plot_daywise('Deaths', dth)"
   ],
   "metadata": {
    "_kg_hide-input": true,
    "trusted": true,
    "pycharm": {
     "name": "#%%\n"
    }
   },
   "execution_count": null,
   "outputs": []
  },
  {
   "cell_type": "code",
   "source": [
    "plot_daywise('New deaths', dth)"
   ],
   "metadata": {
    "_kg_hide-input": true,
    "trusted": true,
    "pycharm": {
     "name": "#%%\n"
    }
   },
   "execution_count": null,
   "outputs": []
  },
  {
   "cell_type": "code",
   "source": [
    "plot_daywise('Recovered', rec)"
   ],
   "metadata": {
    "_kg_hide-input": true,
    "trusted": true,
    "pycharm": {
     "name": "#%%\n"
    }
   },
   "execution_count": null,
   "outputs": []
  },
  {
   "cell_type": "code",
   "source": [
    "plot_daywise('New recovered', rec)"
   ],
   "metadata": {
    "_kg_hide-input": true,
    "trusted": true,
    "pycharm": {
     "name": "#%%\n"
    }
   },
   "execution_count": null,
   "outputs": []
  },
  {
   "cell_type": "code",
   "source": [
    "plot_daywise_line('Deaths / 100 Cases', dth)"
   ],
   "metadata": {
    "_kg_hide-input": true,
    "trusted": true,
    "pycharm": {
     "name": "#%%\n"
    }
   },
   "execution_count": null,
   "outputs": []
  },
  {
   "cell_type": "code",
   "source": [
    "plot_daywise_line('Deaths / 100 Recovered', dth)"
   ],
   "metadata": {
    "_kg_hide-input": true,
    "trusted": true,
    "pycharm": {
     "name": "#%%\n"
    }
   },
   "execution_count": null,
   "outputs": []
  },
  {
   "cell_type": "code",
   "source": [
    "plot_daywise_line('Recovered / 100 Cases', rec)"
   ],
   "metadata": {
    "_kg_hide-input": true,
    "trusted": true,
    "pycharm": {
     "name": "#%%\n"
    }
   },
   "execution_count": null,
   "outputs": []
  },
  {
   "cell_type": "code",
   "source": [
    "plot_daywise('No. of countries', '#035aa6')"
   ],
   "metadata": {
    "_kg_hide-input": true,
    "trusted": true,
    "pycharm": {
     "name": "#%%\n"
    }
   },
   "execution_count": null,
   "outputs": []
  },
  {
   "cell_type": "code",
   "source": [
    "temp = day_wise[['Date', 'Recovered', 'Active']]\n",
    "temp = temp.melt(id_vars='Date', value_vars=['Recovered', 'Active'], \n",
    "                 var_name='Variable', value_name='Count')\n",
    "px.line(temp, x='Date', y='Count', color='Variable')"
   ],
   "metadata": {
    "_kg_hide-input": true,
    "trusted": true,
    "pycharm": {
     "name": "#%%\n"
    }
   },
   "execution_count": null,
   "outputs": []
  },
  {
   "cell_type": "markdown",
   "source": [
    "# Top 20 Countries"
   ],
   "metadata": {
    "pycharm": {
     "name": "#%% md\n"
    }
   }
  },
  {
   "cell_type": "code",
   "source": [
    "def plot_hbar(df, col, n, hover_data=[]):\n",
    "    fig = px.bar(df.sort_values(col).tail(n), \n",
    "                 x=col, y=\"Country/Region\", color='WHO Region',  \n",
    "                 text=col, orientation='h', width=700, hover_data=hover_data,\n",
    "                 color_discrete_sequence = px.colors.qualitative.Dark2)\n",
    "    fig.update_layout(title=col, xaxis_title=\"\", yaxis_title=\"\", \n",
    "                      yaxis_categoryorder = 'total ascending',\n",
    "                      uniformtext_minsize=8, uniformtext_mode='hide')\n",
    "    fig.show()"
   ],
   "metadata": {
    "_kg_hide-input": true,
    "trusted": true,
    "pycharm": {
     "name": "#%%\n"
    }
   },
   "execution_count": null,
   "outputs": []
  },
  {
   "cell_type": "code",
   "source": [
    "def plot_hbar_wm(col, n, min_pop=1000000, sort='descending'):\n",
    "    df = worldometer_data[worldometer_data['Population']>min_pop]\n",
    "    df = df.sort_values(col, ascending=True).tail(n)\n",
    "    fig = px.bar(df,\n",
    "                 x=col, y=\"Country/Region\", color='WHO Region',  \n",
    "                 text=col, orientation='h', width=700, \n",
    "                 color_discrete_sequence = px.colors.qualitative.Dark2)\n",
    "    fig.update_layout(title=col+' (Only countries with > 1M Pop)', \n",
    "                      xaxis_title=\"\", yaxis_title=\"\", \n",
    "                      yaxis_categoryorder = 'total ascending',\n",
    "                      uniformtext_minsize=8, uniformtext_mode='hide')\n",
    "    fig.show()"
   ],
   "metadata": {
    "_kg_hide-input": true,
    "trusted": true,
    "pycharm": {
     "name": "#%%\n"
    }
   },
   "execution_count": null,
   "outputs": []
  },
  {
   "cell_type": "code",
   "source": [
    "plot_hbar(country_wise, 'Confirmed', 15)"
   ],
   "metadata": {
    "_kg_hide-input": true,
    "trusted": true,
    "pycharm": {
     "name": "#%%\n"
    }
   },
   "execution_count": null,
   "outputs": []
  },
  {
   "cell_type": "code",
   "source": [
    "plot_hbar(country_wise, 'Active', 15)"
   ],
   "metadata": {
    "_kg_hide-input": true,
    "trusted": true,
    "pycharm": {
     "name": "#%%\n"
    }
   },
   "execution_count": null,
   "outputs": []
  },
  {
   "cell_type": "code",
   "source": [
    "plot_hbar(country_wise, 'New cases', 15)"
   ],
   "metadata": {
    "_kg_hide-input": true,
    "trusted": true,
    "pycharm": {
     "name": "#%%\n"
    }
   },
   "execution_count": null,
   "outputs": []
  },
  {
   "cell_type": "code",
   "source": [
    "plot_hbar(country_wise, 'Deaths', 15)"
   ],
   "metadata": {
    "_kg_hide-input": true,
    "trusted": true,
    "pycharm": {
     "name": "#%%\n"
    }
   },
   "execution_count": null,
   "outputs": []
  },
  {
   "cell_type": "code",
   "source": [
    "plot_hbar(country_wise, 'New deaths', 15)"
   ],
   "metadata": {
    "_kg_hide-input": true,
    "trusted": true,
    "pycharm": {
     "name": "#%%\n"
    }
   },
   "execution_count": null,
   "outputs": []
  },
  {
   "cell_type": "code",
   "source": [
    "plot_hbar(country_wise, 'Deaths / 100 Cases', 15)"
   ],
   "metadata": {
    "_kg_hide-input": true,
    "trusted": true,
    "pycharm": {
     "name": "#%%\n"
    }
   },
   "execution_count": null,
   "outputs": []
  },
  {
   "cell_type": "code",
   "source": [
    "plot_hbar(country_wise, 'Recovered', 15)"
   ],
   "metadata": {
    "_kg_hide-input": true,
    "trusted": true,
    "pycharm": {
     "name": "#%%\n"
    }
   },
   "execution_count": null,
   "outputs": []
  },
  {
   "cell_type": "code",
   "source": [
    "plot_hbar(country_wise, 'New recovered', 15)"
   ],
   "metadata": {
    "_kg_hide-input": true,
    "trusted": true,
    "pycharm": {
     "name": "#%%\n"
    }
   },
   "execution_count": null,
   "outputs": []
  },
  {
   "cell_type": "code",
   "source": [
    "plot_hbar(country_wise, 'Recovered / 100 Cases', 15)"
   ],
   "metadata": {
    "_kg_hide-input": true,
    "trusted": true,
    "pycharm": {
     "name": "#%%\n"
    }
   },
   "execution_count": null,
   "outputs": []
  },
  {
   "cell_type": "code",
   "source": [
    "plot_hbar(country_wise, '1 week change', 15)"
   ],
   "metadata": {
    "_kg_hide-input": true,
    "trusted": true,
    "pycharm": {
     "name": "#%%\n"
    }
   },
   "execution_count": null,
   "outputs": []
  },
  {
   "cell_type": "code",
   "source": [
    "plot_hbar(country_wise, '1 week % increase', 15)"
   ],
   "metadata": {
    "_kg_hide-input": true,
    "trusted": true,
    "pycharm": {
     "name": "#%%\n"
    }
   },
   "execution_count": null,
   "outputs": []
  },
  {
   "cell_type": "code",
   "source": [
    "plot_hbar_wm('Tot Cases/1M pop', 15, 1000000)"
   ],
   "metadata": {
    "_kg_hide-input": true,
    "trusted": true,
    "pycharm": {
     "name": "#%%\n"
    }
   },
   "execution_count": null,
   "outputs": []
  },
  {
   "cell_type": "code",
   "source": [
    "plot_hbar_wm('Deaths/1M pop', 15, 1000000)"
   ],
   "metadata": {
    "_kg_hide-input": true,
    "trusted": true,
    "pycharm": {
     "name": "#%%\n"
    }
   },
   "execution_count": null,
   "outputs": []
  },
  {
   "cell_type": "code",
   "source": [
    "plot_hbar_wm('TotalTests', 15, 1000000)"
   ],
   "metadata": {
    "_kg_hide-input": true,
    "trusted": true,
    "pycharm": {
     "name": "#%%\n"
    }
   },
   "execution_count": null,
   "outputs": []
  },
  {
   "cell_type": "code",
   "source": [
    "plot_hbar_wm('Tests/1M pop', 15)"
   ],
   "metadata": {
    "_kg_hide-input": true,
    "trusted": true,
    "pycharm": {
     "name": "#%%\n"
    }
   },
   "execution_count": null,
   "outputs": []
  },
  {
   "cell_type": "markdown",
   "source": [
    "# Date vs"
   ],
   "metadata": {
    "pycharm": {
     "name": "#%% md\n"
    }
   }
  },
  {
   "cell_type": "code",
   "source": [
    "def plot_stacked(col):\n",
    "    fig = px.bar(full_grouped, x=\"Date\", y=col, color='Country/Region', \n",
    "                 height=600, title=col, \n",
    "                 color_discrete_sequence = px.colors.cyclical.mygbm)\n",
    "    fig.update_layout(showlegend=True)\n",
    "    fig.show()"
   ],
   "metadata": {
    "_kg_hide-input": true,
    "trusted": true,
    "pycharm": {
     "name": "#%%\n"
    }
   },
   "execution_count": null,
   "outputs": []
  },
  {
   "cell_type": "code",
   "source": [
    "def plot_line(col):\n",
    "    fig = px.line(full_grouped, x=\"Date\", y=col, color='Country/Region', \n",
    "                  height=600, title=col, \n",
    "                  color_discrete_sequence = px.colors.cyclical.mygbm)\n",
    "    fig.update_layout(showlegend=True)\n",
    "    fig.show()"
   ],
   "metadata": {
    "_kg_hide-input": true,
    "trusted": true,
    "pycharm": {
     "name": "#%%\n"
    }
   },
   "execution_count": null,
   "outputs": []
  },
  {
   "cell_type": "code",
   "source": [
    "plot_stacked('Confirmed')"
   ],
   "metadata": {
    "_kg_hide-input": true,
    "trusted": true,
    "pycharm": {
     "name": "#%%\n"
    }
   },
   "execution_count": null,
   "outputs": []
  },
  {
   "cell_type": "code",
   "source": [
    "plot_stacked('Deaths')"
   ],
   "metadata": {
    "_kg_hide-input": true,
    "trusted": true,
    "pycharm": {
     "name": "#%%\n"
    }
   },
   "execution_count": null,
   "outputs": []
  },
  {
   "cell_type": "code",
   "source": [
    "plot_stacked('New cases')"
   ],
   "metadata": {
    "_kg_hide-input": true,
    "trusted": true,
    "pycharm": {
     "name": "#%%\n"
    }
   },
   "execution_count": null,
   "outputs": []
  },
  {
   "cell_type": "code",
   "source": [
    "plot_stacked('Active')"
   ],
   "metadata": {
    "trusted": true,
    "pycharm": {
     "name": "#%%\n"
    }
   },
   "execution_count": null,
   "outputs": []
  },
  {
   "cell_type": "code",
   "source": [
    "plot_line('Confirmed')"
   ],
   "metadata": {
    "_kg_hide-input": true,
    "trusted": true,
    "pycharm": {
     "name": "#%%\n"
    }
   },
   "execution_count": null,
   "outputs": []
  },
  {
   "cell_type": "code",
   "source": [
    "plot_line('Deaths')"
   ],
   "metadata": {
    "_kg_hide-input": true,
    "trusted": true,
    "pycharm": {
     "name": "#%%\n"
    }
   },
   "execution_count": null,
   "outputs": []
  },
  {
   "cell_type": "code",
   "source": [
    "plot_line('New cases')"
   ],
   "metadata": {
    "_kg_hide-input": true,
    "trusted": true,
    "pycharm": {
     "name": "#%%\n"
    }
   },
   "execution_count": null,
   "outputs": []
  },
  {
   "cell_type": "code",
   "source": [
    "plot_line('Active')"
   ],
   "metadata": {
    "trusted": true,
    "pycharm": {
     "name": "#%%\n"
    }
   },
   "execution_count": null,
   "outputs": []
  },
  {
   "cell_type": "code",
   "source": [
    "temp = pd.merge(full_grouped[['Date', 'Country/Region', 'Confirmed', 'Deaths']], \n",
    "                day_wise[['Date', 'Confirmed', 'Deaths']], on='Date')\n",
    "temp['% Confirmed'] = round(temp['Confirmed_x']/temp['Confirmed_y'], 3)*100\n",
    "temp['% Deaths'] = round(temp['Deaths_x']/temp['Deaths_y'], 3)*100\n",
    "temp.head()"
   ],
   "metadata": {
    "_kg_hide-input": true,
    "trusted": true,
    "pycharm": {
     "name": "#%%\n"
    }
   },
   "execution_count": null,
   "outputs": []
  },
  {
   "cell_type": "code",
   "source": [
    "fig = px.bar(temp, x='Date', y='% Confirmed', color='Country/Region', \n",
    "             range_y=(0, 100), title='% of Cases from each country', \n",
    "             color_discrete_sequence=px.colors.qualitative.Prism)\n",
    "fig.show()"
   ],
   "metadata": {
    "_kg_hide-input": true,
    "trusted": true,
    "pycharm": {
     "name": "#%%\n"
    }
   },
   "execution_count": null,
   "outputs": []
  },
  {
   "cell_type": "code",
   "source": [
    "fig = px.bar(temp, x='Date', y='% Deaths', color='Country/Region', \n",
    "             range_y=(0, 100), title='% of Cases from each country', \n",
    "             color_discrete_sequence=px.colors.qualitative.Prism)\n",
    "fig.show()"
   ],
   "metadata": {
    "_kg_hide-input": true,
    "trusted": true,
    "pycharm": {
     "name": "#%%\n"
    }
   },
   "execution_count": null,
   "outputs": []
  },
  {
   "cell_type": "markdown",
   "source": [
    "# Graph after 1M cases"
   ],
   "metadata": {
    "pycharm": {
     "name": "#%% md\n"
    }
   }
  },
  {
   "cell_type": "code",
   "source": [
    "def gt_n(n):\n",
    "    countries = full_grouped[full_grouped['Confirmed']>n]['Country/Region'].unique()\n",
    "    temp = full_table[full_table['Country/Region'].isin(countries)]\n",
    "    temp = temp.groupby(['Country/Region', 'Date'])['Confirmed'].sum().reset_index()\n",
    "    temp = temp[temp['Confirmed']>n]\n",
    "    # print(temp.head())\n",
    "\n",
    "    min_date = temp.groupby('Country/Region')['Date'].min().reset_index()\n",
    "    min_date.columns = ['Country/Region', 'Min Date']\n",
    "    # print(min_date.head())\n",
    "\n",
    "    from_nth_case = pd.merge(temp, min_date, on='Country/Region')\n",
    "    from_nth_case['Date'] = pd.to_datetime(from_nth_case['Date'])\n",
    "    from_nth_case['Min Date'] = pd.to_datetime(from_nth_case['Min Date'])\n",
    "    from_nth_case['N days'] = (from_nth_case['Date'] - from_nth_case['Min Date']).dt.days\n",
    "    # print(from_nth_case.head())\n",
    "\n",
    "    fig = px.line(from_nth_case, x='N days', y='Confirmed', color='Country/Region', \n",
    "                  title='N days from '+str(n)+' case', height=600)\n",
    "    fig.show()"
   ],
   "metadata": {
    "_kg_hide-input": true,
    "trusted": true,
    "pycharm": {
     "name": "#%%\n"
    }
   },
   "execution_count": null,
   "outputs": []
  },
  {
   "cell_type": "code",
   "source": [
    "gt_n(100000)"
   ],
   "metadata": {
    "_kg_hide-input": true,
    "trusted": true,
    "pycharm": {
     "name": "#%%\n"
    }
   },
   "execution_count": null,
   "outputs": []
  },
  {
   "cell_type": "markdown",
   "source": [
    "# Confirmed vs Deaths"
   ],
   "metadata": {
    "pycharm": {
     "name": "#%% md\n"
    }
   }
  },
  {
   "cell_type": "code",
   "source": [
    "fig = px.scatter(country_wise.sort_values('Deaths', ascending=False).iloc[:20, :], \n",
    "                 x='Confirmed', y='Deaths', color='Country/Region', size='Confirmed', \n",
    "                 height=700, text='Country/Region', log_x=True, log_y=True, \n",
    "                 title='Deaths vs Confirmed (Scale is in log10)')\n",
    "fig.update_traces(textposition='top center')\n",
    "fig.update_layout(showlegend=False)\n",
    "fig.update_layout(xaxis_rangeslider_visible=True)\n",
    "fig.show()"
   ],
   "metadata": {
    "_kg_hide-input": true,
    "trusted": true,
    "pycharm": {
     "name": "#%%\n"
    }
   },
   "execution_count": null,
   "outputs": []
  },
  {
   "cell_type": "markdown",
   "source": [
    "# Composition of Cases"
   ],
   "metadata": {
    "pycharm": {
     "name": "#%% md\n"
    }
   }
  },
  {
   "cell_type": "code",
   "source": [
    "def plot_treemap(col):\n",
    "    fig = px.treemap(country_wise, path=[\"Country/Region\"], values=col, height=700,\n",
    "                 title=col, color_discrete_sequence = px.colors.qualitative.Dark2)\n",
    "    fig.data[0].textinfo = 'label+text+value'\n",
    "    fig.show()"
   ],
   "metadata": {
    "trusted": true,
    "pycharm": {
     "name": "#%%\n"
    }
   },
   "execution_count": null,
   "outputs": []
  },
  {
   "cell_type": "code",
   "source": [
    "plot_treemap('Confirmed')"
   ],
   "metadata": {
    "trusted": true,
    "pycharm": {
     "name": "#%%\n"
    }
   },
   "execution_count": null,
   "outputs": []
  },
  {
   "cell_type": "code",
   "source": [
    "plot_treemap('Deaths')"
   ],
   "metadata": {
    "trusted": true,
    "pycharm": {
     "name": "#%%\n"
    }
   },
   "execution_count": null,
   "outputs": []
  },
  {
   "cell_type": "markdown",
   "source": [
    "# Bubble Plot"
   ],
   "metadata": {
    "pycharm": {
     "name": "#%% md\n"
    }
   }
  },
  {
   "cell_type": "code",
   "source": [
    "def plot_bubble(col, pal):\n",
    "    temp = full_grouped[full_grouped[col]>0].sort_values('Country/Region', ascending=False)\n",
    "    fig = px.scatter(temp, x='Date', y='Country/Region', size=col, color=col, height=3000,\n",
    "                    color_continuous_scale=pal)\n",
    "    fig.update_layout(yaxis = dict(dtick = 1))\n",
    "    fig.update(layout_coloraxis_showscale=False)\n",
    "    fig.show()"
   ],
   "metadata": {
    "_kg_hide-input": true,
    "trusted": true,
    "pycharm": {
     "name": "#%%\n"
    }
   },
   "execution_count": null,
   "outputs": []
  },
  {
   "cell_type": "code",
   "source": [
    "plot_bubble('New cases', 'Viridis')"
   ],
   "metadata": {
    "_kg_hide-input": true,
    "trusted": true,
    "pycharm": {
     "name": "#%%\n"
    }
   },
   "execution_count": null,
   "outputs": []
  },
  {
   "cell_type": "code",
   "source": [
    "plot_bubble('Active', 'Viridis')"
   ],
   "metadata": {
    "_kg_hide-input": true,
    "trusted": true,
    "pycharm": {
     "name": "#%%\n"
    }
   },
   "execution_count": null,
   "outputs": []
  },
  {
   "cell_type": "markdown",
   "source": [
    "# Epidemic Span"
   ],
   "metadata": {
    "pycharm": {
     "name": "#%% md\n"
    }
   }
  },
  {
   "cell_type": "code",
   "source": [
    "temp = full_grouped[['Date', 'Country/Region', 'New cases']]\n",
    "temp['New cases reported ?'] = temp['New cases']!=0\n",
    "temp['New cases reported ?'] = temp['New cases reported ?'].astype(int)\n",
    "# temp.head()"
   ],
   "metadata": {
    "_kg_hide-input": true,
    "trusted": true,
    "pycharm": {
     "name": "#%%\n"
    }
   },
   "execution_count": null,
   "outputs": []
  },
  {
   "cell_type": "code",
   "source": [
    "fig = go.Figure(data=go.Heatmap(\n",
    "        z=temp['New cases reported ?'],\n",
    "        x=temp['Date'],\n",
    "        y=temp['Country/Region'],\n",
    "        colorscale='Emrld',\n",
    "        showlegend=False,\n",
    "        text=temp['New cases reported ?']))\n",
    "\n",
    "fig.update_layout(yaxis = dict(dtick = 1))\n",
    "fig.update_layout(height=3000)\n",
    "fig.show()"
   ],
   "metadata": {
    "_kg_hide-input": true,
    "trusted": true,
    "pycharm": {
     "name": "#%%\n"
    }
   },
   "execution_count": null,
   "outputs": []
  },
  {
   "cell_type": "markdown",
   "source": [
    "# Running Bar Chart"
   ],
   "metadata": {
    "_kg_hide-input": true,
    "trusted": true,
    "pycharm": {
     "name": "#%% md\n"
    }
   }
  },
  {
   "cell_type": "markdown",
   "source": [
    "https://app.flourish.studio/visualisation/1571387/edit\n",
    "\n"
   ],
   "metadata": {
    "pycharm": {
     "name": "#%% md\n"
    }
   }
  },
  {
   "cell_type": "code",
   "source": [
    "# HTML('''<div class=\"flourish-embed flourish-bar-chart-race\" data-src=\"visualisation/1571387\"><script src=\"https://public.flourish.studio/resources/embed.js\"></script></div>''')"
   ],
   "metadata": {
    "trusted": true,
    "pycharm": {
     "name": "#%%\n"
    }
   },
   "execution_count": null,
   "outputs": []
  },
  {
   "cell_type": "markdown",
   "source": [
    "# Country Wise"
   ],
   "metadata": {
    "pycharm": {
     "name": "#%% md\n"
    }
   }
  },
  {
   "cell_type": "code",
   "source": [
    "# temp = full_table.groupby(['Country/Region', 'Date', ])['Confirmed', 'Deaths']\n",
    "# temp = temp.sum().diff().reset_index()\n",
    "\n",
    "# mask = temp['Country/Region'] != temp['Country/Region'].shift(1)\n",
    "\n",
    "# temp.loc[mask, 'Confirmed'] = np.nan\n",
    "# temp.loc[mask, 'Deaths'] = np.nan\n",
    "\n",
    "# countries = full_table[full_table['Confirmed']>100000]['Country/Region'].unique()\n",
    "\n",
    "# temp = temp[temp['Country/Region'].isin(countries)]\n",
    "\n",
    "\n",
    "# n_cols = 3\n",
    "# n_rows = math.ceil(len(countries)/n_cols)\n",
    "\n",
    "# fig = make_subplots(rows=n_rows, cols=n_cols, shared_xaxes=False, subplot_titles=countries)\n",
    "\n",
    "# for ind, country in enumerate(countries):\n",
    "#     row = int((ind/n_cols)+1)\n",
    "#     col = int((ind%n_cols)+1)\n",
    "#     fig.add_trace(go.Bar(x=temp['Date'], y=temp.loc[temp['Country/Region']==country, 'Confirmed'], name=country), row=row, col=col)\n",
    "    \n",
    "# fig.update_layout(height=4000, title_text=\"No. of new cases in each Country\")\n",
    "# fig.update_layout(showlegend=False)\n",
    "# fig.show()"
   ],
   "metadata": {
    "_kg_hide-input": true,
    "trusted": true,
    "pycharm": {
     "name": "#%%\n"
    }
   },
   "execution_count": null,
   "outputs": []
  },
  {
   "cell_type": "markdown",
   "source": [
    "# Comparison with similar epidemics"
   ],
   "metadata": {
    "pycharm": {
     "name": "#%% md\n"
    }
   }
  },
  {
   "cell_type": "markdown",
   "source": [
    "https://www.kaggle.com/imdevskp/covid19-vs-sars-vs-mers-vs-ebola-vs-h1n1\n",
    "\n"
   ],
   "metadata": {
    "pycharm": {
     "name": "#%% md\n"
    }
   }
  },
  {
   "cell_type": "markdown",
   "source": [
    "# Analysis on similar pandemic/epidemic/outbreak"
   ],
   "metadata": {
    "pycharm": {
     "name": "#%% md\n"
    }
   }
  },
  {
   "cell_type": "markdown",
   "source": [
    "https://www.kaggle.com/imdevskp/mers-outbreak-analysis  \n",
    "https://www.kaggle.com/imdevskp/sars-2003-outbreak-analysis  \n",
    "https://www.kaggle.com/imdevskp/western-africa-ebola-outbreak-analysis\n"
   ],
   "metadata": {
    "pycharm": {
     "name": "#%% md\n"
    }
   }
  },
  {
   "cell_type": "markdown",
   "source": [
    "# USA"
   ],
   "metadata": {
    "pycharm": {
     "name": "#%% md\n"
    }
   }
  },
  {
   "cell_type": "code",
   "source": [
    "usa_df = pd.read_csv('../input/corona-virus-report/usa_county_wise.csv')\n",
    "usa_latest = usa_df[usa_df['Date'] == max(usa_df['Date'])]\n",
    "usa_grouped = usa_latest.groupby('Province_State')['Confirmed', 'Deaths'].sum().reset_index()"
   ],
   "metadata": {
    "trusted": true,
    "pycharm": {
     "name": "#%%\n"
    }
   },
   "execution_count": null,
   "outputs": []
  },
  {
   "cell_type": "code",
   "source": [
    "us_code = {'Alabama': 'AL', 'Alaska': 'AK', 'American Samoa': 'AS', 'Arizona': 'AZ', 'Arkansas': 'AR', \n",
    "    'California': 'CA','Colorado': 'CO','Connecticut': 'CT','Delaware': 'DE', 'District of Columbia': 'DC', \n",
    "    'Florida': 'FL', 'Georgia': 'GA', 'Guam': 'GU', 'Hawaii': 'HI', 'Idaho': 'ID', 'Illinois': 'IL',\n",
    "    'Indiana': 'IN','Iowa': 'IA','Kansas': 'KS','Kentucky': 'KY','Louisiana': 'LA','Maine': 'ME',\n",
    "    'Maryland': 'MD','Massachusetts': 'MA','Michigan': 'MI','Minnesota': 'MN','Mississippi': 'MS',\n",
    "    'Missouri': 'MO','Montana': 'MT','Nebraska': 'NE','Nevada': 'NV','New Hampshire': 'NH', 'New Jersey': 'NJ',\n",
    "    'New Mexico': 'NM', 'New York': 'NY', 'North Carolina': 'NC', 'North Dakota': 'ND', 'Northern Mariana Islands':'MP',\n",
    "    'Ohio': 'OH', 'Oklahoma': 'OK', 'Oregon': 'OR', 'Pennsylvania': 'PA', 'Puerto Rico': 'PR',\n",
    "    'Rhode Island': 'RI', 'South Carolina': 'SC', 'South Dakota': 'SD', 'Tennessee': 'TN', 'Texas': 'TX',\n",
    "    'Utah': 'UT', 'Vermont': 'VT', 'Virgin Islands': 'VI', 'Virginia': 'VA', 'Washington': 'WA',\n",
    "    'West Virginia': 'WV', 'Wisconsin': 'WI', 'Wyoming': 'WY'}\n",
    "\n",
    "usa_grouped['Code'] = usa_grouped['Province_State'].map(us_code)"
   ],
   "metadata": {
    "_kg_hide-input": true,
    "trusted": true,
    "pycharm": {
     "name": "#%%\n"
    }
   },
   "execution_count": null,
   "outputs": []
  },
  {
   "cell_type": "code",
   "source": [
    "fig = px.choropleth(usa_grouped, color='Confirmed', locations='Code', locationmode=\"USA-states\", \n",
    "                    scope=\"usa\", color_continuous_scale=\"RdGy\", title='No. of cases in USA')\n",
    "fig"
   ],
   "metadata": {
    "trusted": true,
    "pycharm": {
     "name": "#%%\n"
    }
   },
   "execution_count": null,
   "outputs": []
  },
  {
   "cell_type": "code",
   "source": [
    "# with urlopen('https://raw.githubusercontent.com/plotly/datasets/master/geojson-counties-fips.json') as response:\n",
    "#     counties = json.load(response)\n",
    "\n",
    "# fig = px.choropleth(usa_latest, geojson=counties, locations='FIPS', color='Confirmed',\n",
    "#                            color_continuous_scale=\"Peach\",\n",
    "#                            scope=\"usa\",\n",
    "#                            labels={'Confirmed':'Confirmed'})\n",
    "# fig.update_layout(margin={\"r\":0,\"t\":0,\"l\":0,\"b\":0})\n",
    "# fig.show()"
   ],
   "metadata": {
    "trusted": true,
    "pycharm": {
     "name": "#%%\n"
    }
   },
   "execution_count": null,
   "outputs": []
  },
  {
   "cell_type": "markdown",
   "source": [
    "# WHO Region Wise"
   ],
   "metadata": {
    "pycharm": {
     "name": "#%% md\n"
    }
   }
  },
  {
   "cell_type": "markdown",
   "source": [
    "> *https://en.wikipedia.org/wiki/WHO_regions*"
   ],
   "metadata": {
    "pycharm": {
     "name": "#%% md\n"
    }
   }
  },
  {
   "cell_type": "code",
   "source": [
    "who = country_wise.groupby('WHO Region')['Confirmed', 'Deaths', 'Recovered', 'Active',\n",
    "                                         'New cases', 'Confirmed last week'].sum().reset_index()\n",
    "who['Fatality Rate'] = round((who['Deaths'] / who['Confirmed']) * 100, 2)\n",
    "who['Recovery Rate'] = (who['Recovered'] / who['Confirmed']) * 100\n",
    "\n",
    "who_g = full_grouped.groupby(['WHO Region', 'Date'])['Confirmed', 'Deaths', 'Recovered', \n",
    "                                                     'Active','New cases', 'New deaths'].sum().reset_index()"
   ],
   "metadata": {
    "_kg_hide-input": true,
    "trusted": true,
    "pycharm": {
     "name": "#%%\n"
    }
   },
   "execution_count": null,
   "outputs": []
  },
  {
   "cell_type": "code",
   "source": [
    "def plot_hbar(col, hover_data=[]):\n",
    "    fig = px.bar(who.sort_values(col), \n",
    "                 x=col, y=\"WHO Region\", color='WHO Region',  \n",
    "                 text=col, orientation='h', width=700, hover_data=hover_data,\n",
    "                 color_discrete_sequence = px.colors.qualitative.Dark2)\n",
    "    fig.update_layout(title=col, xaxis_title=\"\", yaxis_title=\"\", \n",
    "                      yaxis_categoryorder = 'total ascending',\n",
    "                      uniformtext_minsize=8, uniformtext_mode='hide')\n",
    "    fig.show()"
   ],
   "metadata": {
    "_kg_hide-input": true,
    "trusted": true,
    "pycharm": {
     "name": "#%%\n"
    }
   },
   "execution_count": null,
   "outputs": []
  },
  {
   "cell_type": "code",
   "source": [
    "plot_hbar('Confirmed')"
   ],
   "metadata": {
    "_kg_hide-input": true,
    "trusted": true,
    "pycharm": {
     "name": "#%%\n"
    }
   },
   "execution_count": null,
   "outputs": []
  },
  {
   "cell_type": "code",
   "source": [
    "plot_hbar('Deaths')"
   ],
   "metadata": {
    "_kg_hide-input": true,
    "trusted": true,
    "pycharm": {
     "name": "#%%\n"
    }
   },
   "execution_count": null,
   "outputs": []
  },
  {
   "cell_type": "code",
   "source": [
    "plot_hbar('Fatality Rate')"
   ],
   "metadata": {
    "_kg_hide-input": true,
    "trusted": true,
    "pycharm": {
     "name": "#%%\n"
    }
   },
   "execution_count": null,
   "outputs": []
  },
  {
   "cell_type": "code",
   "source": [
    "temp = worldometer_data[worldometer_data['WHO Region']!=0]"
   ],
   "metadata": {
    "_kg_hide-input": true,
    "trusted": true,
    "pycharm": {
     "name": "#%%\n"
    }
   },
   "execution_count": null,
   "outputs": []
  },
  {
   "cell_type": "code",
   "source": [
    "fig = px.scatter(temp, x='TotalCases', y='TotalDeaths', color='WHO Region', \n",
    "                 height=700, hover_name='Country/Region', log_x=True, log_y=True, \n",
    "                 title='Confirmed vs Deaths',\n",
    "                 color_discrete_sequence=px.colors.qualitative.Vivid)\n",
    "fig.update_traces(textposition='top center')\n",
    "# fig.update_layout(showlegend=False)\n",
    "# fig.update_layout(xaxis_rangeslider_visible=True)\n",
    "fig.show()"
   ],
   "metadata": {
    "_kg_hide-input": true,
    "trusted": true,
    "pycharm": {
     "name": "#%%\n"
    }
   },
   "execution_count": null,
   "outputs": []
  },
  {
   "cell_type": "code",
   "source": [
    "fig = px.scatter(temp, x='Population', y='TotalCases', color='WHO Region', \n",
    "                 height=700, hover_name='Country/Region', log_x=True, log_y=True, \n",
    "                 title='Population vs Confirmed',\n",
    "                 color_discrete_sequence=px.colors.qualitative.Vivid)\n",
    "fig.update_traces(textposition='top center')\n",
    "# fig.update_layout(showlegend=False)\n",
    "# fig.update_layout(xaxis_rangeslider_visible=True)\n",
    "fig.show()"
   ],
   "metadata": {
    "_kg_hide-input": true,
    "trusted": true,
    "pycharm": {
     "name": "#%%\n"
    }
   },
   "execution_count": null,
   "outputs": []
  },
  {
   "cell_type": "code",
   "source": [
    "px.bar(who_g, x=\"Date\", y=\"Confirmed\", color='WHO Region', \n",
    "       height=600, title='Confirmed', \n",
    "       color_discrete_sequence=px.colors.qualitative.Vivid)"
   ],
   "metadata": {
    "_kg_hide-input": true,
    "trusted": true,
    "pycharm": {
     "name": "#%%\n"
    }
   },
   "execution_count": null,
   "outputs": []
  },
  {
   "cell_type": "code",
   "source": [
    "px.bar(who_g, x=\"Date\", y=\"New cases\", color='WHO Region', \n",
    "       height=600, title='New cases', \n",
    "       color_discrete_sequence=px.colors.qualitative.Vivid)"
   ],
   "metadata": {
    "_kg_hide-input": true,
    "trusted": true,
    "pycharm": {
     "name": "#%%\n"
    }
   },
   "execution_count": null,
   "outputs": []
  },
  {
   "cell_type": "code",
   "source": [
    "px.box(worldometer_data, x='WHO Region', y='TotalCases', color='WHO Region',\n",
    "       title='Distribution of country wise no. of cases in different WHO Region')"
   ],
   "metadata": {
    "trusted": true,
    "pycharm": {
     "name": "#%%\n"
    }
   },
   "execution_count": null,
   "outputs": []
  },
  {
   "cell_type": "markdown",
   "source": [
    "## Weekly Statistics"
   ],
   "metadata": {
    "pycharm": {
     "name": "#%% md\n"
    }
   }
  },
  {
   "cell_type": "code",
   "source": [
    "full_grouped['Week No.'] = full_grouped['Date'].dt.strftime('%U')\n",
    "week_wise = full_grouped.groupby('Week No.')['Confirmed', 'Deaths', 'Recovered', 'Active', 'New cases', 'New deaths', 'New recovered'].sum().reset_index()"
   ],
   "metadata": {
    "_kg_hide-input": true,
    "trusted": true,
    "pycharm": {
     "name": "#%%\n"
    }
   },
   "execution_count": null,
   "outputs": []
  },
  {
   "cell_type": "code",
   "source": [
    "def plot_weekwise(col, hue):\n",
    "    fig = px.bar(week_wise, x=\"Week No.\", y=col, width=700, color_discrete_sequence=[hue])\n",
    "    fig.update_layout(title=col, xaxis_title=\"\", yaxis_title=\"\")\n",
    "    fig.show()"
   ],
   "metadata": {
    "_kg_hide-input": true,
    "trusted": true,
    "pycharm": {
     "name": "#%%\n"
    }
   },
   "execution_count": null,
   "outputs": []
  },
  {
   "cell_type": "code",
   "source": [
    "plot_weekwise('Confirmed', '#000000')"
   ],
   "metadata": {
    "_kg_hide-input": true,
    "trusted": true,
    "pycharm": {
     "name": "#%%\n"
    }
   },
   "execution_count": null,
   "outputs": []
  },
  {
   "cell_type": "code",
   "source": [
    "plot_weekwise('Deaths', dth)"
   ],
   "metadata": {
    "_kg_hide-input": true,
    "trusted": true,
    "pycharm": {
     "name": "#%%\n"
    }
   },
   "execution_count": null,
   "outputs": []
  },
  {
   "cell_type": "code",
   "source": [
    "plot_weekwise('New cases', '#cd6684')"
   ],
   "metadata": {
    "_kg_hide-input": true,
    "trusted": true,
    "pycharm": {
     "name": "#%%\n"
    }
   },
   "execution_count": null,
   "outputs": []
  },
  {
   "cell_type": "markdown",
   "source": [
    "## Monthly statistics"
   ],
   "metadata": {
    "pycharm": {
     "name": "#%% md\n"
    }
   }
  },
  {
   "cell_type": "code",
   "source": [
    "full_grouped['Month'] = pd.DatetimeIndex(full_grouped['Date']).month\n",
    "month_wise = full_grouped.groupby('Month')['Confirmed', 'Deaths', 'Recovered', 'Active', 'New cases', 'New deaths', 'New recovered'].sum().reset_index()"
   ],
   "metadata": {
    "_kg_hide-input": true,
    "trusted": true,
    "pycharm": {
     "name": "#%%\n"
    }
   },
   "execution_count": null,
   "outputs": []
  },
  {
   "cell_type": "code",
   "source": [
    "def plot_monthwise(col, hue):\n",
    "    fig = px.bar(month_wise, x=\"Month\", y=col, width=700, color_discrete_sequence=[hue])\n",
    "    fig.update_layout(title=col, xaxis_title=\"\", yaxis_title=\"\")\n",
    "    fig.show()"
   ],
   "metadata": {
    "_kg_hide-input": true,
    "trusted": true,
    "pycharm": {
     "name": "#%%\n"
    }
   },
   "execution_count": null,
   "outputs": []
  },
  {
   "cell_type": "code",
   "source": [
    "plot_monthwise('Confirmed', '#000000')"
   ],
   "metadata": {
    "_kg_hide-input": true,
    "trusted": true,
    "pycharm": {
     "name": "#%%\n"
    }
   },
   "execution_count": null,
   "outputs": []
  },
  {
   "cell_type": "code",
   "source": [
    "plot_monthwise('Deaths', dth)"
   ],
   "metadata": {
    "_kg_hide-input": true,
    "trusted": true,
    "pycharm": {
     "name": "#%%\n"
    }
   },
   "execution_count": null,
   "outputs": []
  },
  {
   "cell_type": "code",
   "source": [
    "plot_monthwise('New cases', '#cd6684')"
   ],
   "metadata": {
    "_kg_hide-input": true,
    "trusted": true,
    "pycharm": {
     "name": "#%%\n"
    }
   },
   "execution_count": null,
   "outputs": []
  },
  {
   "cell_type": "markdown",
   "source": [
    "# Countries with no more active cases"
   ],
   "metadata": {
    "pycharm": {
     "name": "#%% md\n"
    }
   }
  },
  {
   "cell_type": "code",
   "source": [
    "temp = country_wise[country_wise['Active']==0]\n",
    "temp = temp.sort_values('Confirmed', ascending=False)\n",
    "temp.reset_index(drop=True)"
   ],
   "metadata": {
    "trusted": true,
    "pycharm": {
     "name": "#%%\n"
    }
   },
   "execution_count": null,
   "outputs": []
  },
  {
   "cell_type": "markdown",
   "source": [
    "# Healthy life expectancy vs Deaths / 100 Cases"
   ],
   "metadata": {
    "pycharm": {
     "name": "#%% md\n"
    }
   }
  },
  {
   "cell_type": "code",
   "source": [
    "happiness_report = pd.read_csv('../input/world-happiness/2019.csv')\n",
    "happiness_report = happiness_report[['Country or region', 'Healthy life expectancy']]\n",
    "\n",
    "temp = country_wise.merge(happiness_report, left_on='Country/Region', right_on='Country or region')\n",
    "px.scatter(temp, y='Deaths / 100 Cases', x='Healthy life expectancy', color='WHO Region', hover_data=['Country/Region'])"
   ],
   "metadata": {
    "trusted": true,
    "pycharm": {
     "name": "#%%\n"
    }
   },
   "execution_count": null,
   "outputs": []
  }
 ]
}